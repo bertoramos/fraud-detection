{
 "cells": [
  {
   "cell_type": "markdown",
   "metadata": {
    "editable": true
   },
   "source": [
    "# AWS Glue Studio Notebook\n",
    "##### You are now running a AWS Glue Studio notebook; To start using your notebook you need to start an AWS Glue Interactive Session.\n"
   ]
  },
  {
   "cell_type": "markdown",
   "metadata": {
    "editable": true
   },
   "source": [
    "#### Optional: Run this cell to see available notebook commands (\"magics\").\n"
   ]
  },
  {
   "cell_type": "code",
   "execution_count": 1,
   "metadata": {
    "editable": true
   },
   "outputs": [],
   "source": [
    "#%help"
   ]
  },
  {
   "cell_type": "code",
   "execution_count": 1,
   "metadata": {},
   "outputs": [
    {
     "name": "stdout",
     "output_type": "stream",
     "text": [
      "--jars /opt/aws/glue/lib/mysql-connector-java-8.0.23.jar pyspark-shell\n"
     ]
    }
   ],
   "source": [
    "#import os\n",
    "\n",
    "#mysql_jar = \"/opt/aws/glue/lib/mysql-connector-java-8.0.23.jar\"\n",
    "#os.environ['PYSPARK_SUBMIT_ARGS'] = f'--jars {mysql_jar} pyspark-shell'\n",
    "\n",
    "#print( os.environ['PYSPARK_SUBMIT_ARGS'] )"
   ]
  },
  {
   "cell_type": "markdown",
   "metadata": {
    "editable": true
   },
   "source": [
    "####  Run this cell to set up and start your interactive session.\n"
   ]
  },
  {
   "cell_type": "code",
   "execution_count": 3,
   "metadata": {
    "editable": true
   },
   "outputs": [
    {
     "name": "stderr",
     "output_type": "stream",
     "text": [
      "SLF4J: Class path contains multiple SLF4J bindings.\n",
      "SLF4J: Found binding in [jar:file:/home/glue_user/spark/jars/log4j-slf4j-impl-2.17.2.jar!/org/slf4j/impl/StaticLoggerBinder.class]\n",
      "SLF4J: Found binding in [jar:file:/home/glue_user/spark/jars/slf4j-reload4j-1.7.36.jar!/org/slf4j/impl/StaticLoggerBinder.class]\n",
      "SLF4J: Found binding in [jar:file:/home/glue_user/aws-glue-libs/jars/log4j-slf4j-impl-2.17.2.jar!/org/slf4j/impl/StaticLoggerBinder.class]\n",
      "SLF4J: Found binding in [jar:file:/home/glue_user/aws-glue-libs/jars/slf4j-reload4j-1.7.36.jar!/org/slf4j/impl/StaticLoggerBinder.class]\n",
      "SLF4J: See http://www.slf4j.org/codes.html#multiple_bindings for an explanation.\n",
      "SLF4J: Actual binding is of type [org.apache.logging.slf4j.Log4jLoggerFactory]\n",
      "Setting default log level to \"WARN\".\n",
      "To adjust logging level use sc.setLogLevel(newLevel). For SparkR, use setLogLevel(newLevel).\n",
      "/home/glue_user/spark/python/pyspark/sql/context.py:112: FutureWarning: Deprecated in 3.0.0. Use SparkSession.builder.getOrCreate() instead.\n",
      "  warnings.warn(\n"
     ]
    }
   ],
   "source": [
    "#%idle_timeout 2880\n",
    "#%glue_version 5.0\n",
    "#%worker_type G.1X\n",
    "#%number_of_workers 5\n",
    "\n",
    "import sys\n",
    "from awsglue.transforms import *\n",
    "from awsglue.utils import getResolvedOptions\n",
    "from pyspark.context import SparkContext\n",
    "from awsglue.context import GlueContext\n",
    "from awsglue.job import Job\n",
    "from pyspark.sql import SparkSession\n",
    "\n",
    "# JDBC_JAR_PATH = \"/opt/aws/glue/lib/mysql-connector-j-9.2.0.jar\"\n",
    "\n",
    "sc = SparkContext.getOrCreate()\n",
    "glueContext = GlueContext(sc)\n",
    "spark = glueContext.spark_session\n",
    "job = Job(glueContext)"
   ]
  },
  {
   "cell_type": "markdown",
   "metadata": {
    "editable": true
   },
   "source": [
    "#### Extract DynamicFrames from an AWS Glue Data Catalog and display their schemas"
   ]
  },
  {
   "cell_type": "code",
   "execution_count": 4,
   "metadata": {},
   "outputs": [
    {
     "name": "stdout",
     "output_type": "stream",
     "text": [
      "['fraud_detection_certs', 'fraud_detection_payment_methods', 'fraud_detection_review', 'fraud_detection_shops', 'fraud_detection_ssl_issuer']\n"
     ]
    }
   ],
   "source": [
    "import boto3\n",
    "\n",
    "glue = boto3.client('glue')\n",
    "\n",
    "database_name = 'fraud-detection-gluedb'\n",
    "\n",
    "# Obtener las tablas de la base de datos especificada\n",
    "response = glue.get_tables(DatabaseName=database_name)\n",
    "\n",
    "datatables = response['TableList']\n",
    "\n",
    "print([e['Name'] for e in datatables])"
   ]
  },
  {
   "cell_type": "code",
   "execution_count": 5,
   "metadata": {},
   "outputs": [],
   "source": [
    "import boto3\n",
    "from botocore.exceptions import ClientError\n",
    "import json\n",
    "\n",
    "def get_secret():\n",
    "\n",
    "    secret_name = \"prod/fraud-detection-db\"\n",
    "    region_name = \"us-east-1\"\n",
    "\n",
    "    # Create a Secrets Manager client\n",
    "    session = boto3.session.Session()\n",
    "    client = session.client(\n",
    "        service_name='secretsmanager',\n",
    "        region_name=region_name\n",
    "    )\n",
    "\n",
    "    try:\n",
    "        get_secret_value_response = client.get_secret_value(\n",
    "            SecretId=secret_name\n",
    "        )\n",
    "    except ClientError as e:\n",
    "        # For a list of exceptions thrown, see\n",
    "        # https://docs.aws.amazon.com/secretsmanager/latest/apireference/API_GetSecretValue.html\n",
    "        raise e\n",
    "\n",
    "    secret = get_secret_value_response['SecretString']\n",
    "    return json.loads(secret)\n"
   ]
  },
  {
   "cell_type": "code",
   "execution_count": 8,
   "metadata": {
    "editable": true
   },
   "outputs": [
    {
     "name": "stdout",
     "output_type": "stream",
     "text": [
      "Table certs\n",
      "root\n",
      "|-- cert_id: int\n",
      "|-- cert_expire_date: timestamp\n",
      "|-- shop_id: int\n",
      "|-- ssl_id: int\n",
      "\n",
      "Table payment_methods\n",
      "root\n",
      "|-- payment_method_id: int\n",
      "|-- allow_credit_card: boolean\n",
      "|-- allow_money_back: boolean\n",
      "|-- allow_cash_on_delivery: boolean\n",
      "|-- allow_crypto: boolean\n",
      "|-- shop_id: int\n",
      "\n",
      "Table review\n",
      "root\n",
      "|-- review_id: int\n",
      "|-- trust_pilot_score: int\n",
      "|-- site_jabber_review: boolean\n",
      "|-- tranco_rank: int\n",
      "|-- shop_id: int\n",
      "\n",
      "Table shops\n",
      "root\n",
      "|-- shop_id: int\n",
      "|-- domain_url: string\n",
      "|-- domain_registration_date: timestamp\n",
      "|-- is_young_domain: boolean\n",
      "|-- contact_email: boolean\n",
      "|-- logo_url: boolean\n",
      "|-- legitimate: boolean\n",
      "\n",
      "Table ssl_issuer\n",
      "root\n",
      "|-- ssl_id: int\n",
      "|-- ssl_issuer: string\n",
      "|-- ssl_organization: string\n",
      "\n"
     ]
    }
   ],
   "source": [
    "import boto3\n",
    "\n",
    "connection_mysql_options = lambda dbtable : {\n",
    "    \"url\": f\"jdbc:mysql://{get_secret()['host']}:{get_secret()['port']}/fraud-detection\", \n",
    "    \"dbtable\": dbtable, \n",
    "    \"user\": get_secret()[\"username\"], \n",
    "    \"password\": get_secret()[\"password\"], \n",
    "    \"customJdbcDriverS3Path\": \"s3://fraud-detection-data-ars/mysql-connector-java-8.0.23.jar\",\n",
    "    \"customJdbcDriverClassName\": \"com.mysql.cj.jdbc.Driver\"\n",
    "}\n",
    "\n",
    "# Crear un cliente de Glue\n",
    "glue = boto3.client('glue')\n",
    "\n",
    "database_name = 'fraud-detection-gluedb'\n",
    "\n",
    "# Obtener las tablas de la base de datos especificada\n",
    "response = glue.get_tables(DatabaseName=database_name)\n",
    "\n",
    "datatables = response['TableList']\n",
    "\n",
    "local_flag=True\n",
    "\n",
    "dyf_set = dict()\n",
    "for name in datatables:\n",
    "    table_name = name['Name'].removeprefix(\"fraud_detection_\")\n",
    "    print(f\"Table {table_name}\")\n",
    "    \n",
    "    # fixed access with from_catalog from docker container\n",
    "    if local_flag: # USING DOCKER IMAGE\n",
    "        dyf_set[table_name] = glueContext.create_dynamic_frame.from_options(connection_type=\"mysql\", connection_options=connection_mysql_options(table_name.upper()))\n",
    "        dyf_set[table_name].printSchema()\n",
    "    else: # IN AWS PLATFORM\n",
    "        dyf_set[table_name] = glueContext.create_dynamic_frame.from_catalog(database=database_name, table_name=name['Name'])\n",
    "        dyf_set[table_name].printSchema()\n"
   ]
  },
  {
   "cell_type": "markdown",
   "metadata": {
    "editable": true
   },
   "source": [
    "#### Convert the DynamicFrame to a Spark DataFrame and display a sample of the data"
   ]
  },
  {
   "cell_type": "code",
   "execution_count": 9,
   "metadata": {
    "editable": true
   },
   "outputs": [
    {
     "name": "stderr",
     "output_type": "stream",
     "text": [
      "/home/glue_user/spark/python/pyspark/sql/dataframe.py:127: UserWarning: DataFrame constructor is internal. Do not directly use it.\n",
      "  warnings.warn(\"DataFrame constructor is internal. Do not directly use it.\")\n"
     ]
    },
    {
     "name": "stdout",
     "output_type": "stream",
     "text": [
      "Table certs\n"
     ]
    },
    {
     "name": "stderr",
     "output_type": "stream",
     "text": [
      "                                                                                \r"
     ]
    },
    {
     "name": "stdout",
     "output_type": "stream",
     "text": [
      "+-------+-------------------+-------+------+\n",
      "|cert_id|   cert_expire_date|shop_id|ssl_id|\n",
      "+-------+-------------------+-------+------+\n",
      "|    777|2023-10-24 13:20:41|    777|     3|\n",
      "|    954|2023-09-13 20:01:27|    954|     2|\n",
      "|     60|2023-09-18 20:00:40|     60|     2|\n",
      "|    206|2023-09-05 04:24:48|    206|     2|\n",
      "|    427|2023-10-17 08:48:18|    427|     3|\n",
      "+-------+-------------------+-------+------+\n",
      "only showing top 5 rows\n",
      "\n",
      "Table payment_methods\n"
     ]
    },
    {
     "name": "stderr",
     "output_type": "stream",
     "text": [
      "                                                                                \r"
     ]
    },
    {
     "name": "stdout",
     "output_type": "stream",
     "text": [
      "+-----------------+-----------------+----------------+----------------------+------------+-------+\n",
      "|payment_method_id|allow_credit_card|allow_money_back|allow_cash_on_delivery|allow_crypto|shop_id|\n",
      "+-----------------+-----------------+----------------+----------------------+------------+-------+\n",
      "|             1052|             true|            true|                 false|       false|   1052|\n",
      "|               80|             true|            true|                 false|       false|     80|\n",
      "|              214|             true|            true|                 false|       false|    214|\n",
      "|              561|            false|            true|                 false|       false|    561|\n",
      "|              979|             true|           false|                  true|       false|    979|\n",
      "+-----------------+-----------------+----------------+----------------------+------------+-------+\n",
      "only showing top 5 rows\n",
      "\n",
      "Table review\n"
     ]
    },
    {
     "name": "stderr",
     "output_type": "stream",
     "text": [
      "                                                                                \r"
     ]
    },
    {
     "name": "stdout",
     "output_type": "stream",
     "text": [
      "+---------+-----------------+------------------+-----------+-------+\n",
      "|review_id|trust_pilot_score|site_jabber_review|tranco_rank|shop_id|\n",
      "+---------+-----------------+------------------+-----------+-------+\n",
      "|      579|             null|             false|         -1|    579|\n",
      "|      225|               -1|             false|         -1|    225|\n",
      "|     1095|             null|             false|         -1|   1095|\n",
      "|      826|               -1|             false|         -1|    826|\n",
      "|      144|               -1|             false|         -1|    144|\n",
      "+---------+-----------------+------------------+-----------+-------+\n",
      "only showing top 5 rows\n",
      "\n",
      "Table shops\n"
     ]
    },
    {
     "name": "stderr",
     "output_type": "stream",
     "text": [
      "                                                                                \r"
     ]
    },
    {
     "name": "stdout",
     "output_type": "stream",
     "text": [
      "+-------+--------------------+------------------------+---------------+-------------+--------+----------+\n",
      "|shop_id|          domain_url|domain_registration_date|is_young_domain|contact_email|logo_url|legitimate|\n",
      "+-------+--------------------+------------------------+---------------+-------------+--------+----------+\n",
      "|    709| https://ikonisch.pt|                    null|           true|         true|    true|      true|\n",
      "|    186|https://www.gowbl...|     2023-06-23 05:43:00|           true|         true|    true|     false|\n",
      "|   1115|https://www.maxim...|     2000-10-26 00:00:00|          false|         true|    true|      true|\n",
      "|   1072|https://www.enigm...|     2023-05-29 00:00:00|           true|        false|    true|     false|\n",
      "|    268|https://www.footw...|     2023-04-20 00:00:00|           true|        false|   false|     false|\n",
      "+-------+--------------------+------------------------+---------------+-------------+--------+----------+\n",
      "only showing top 5 rows\n",
      "\n",
      "Table ssl_issuer\n"
     ]
    },
    {
     "name": "stderr",
     "output_type": "stream",
     "text": [
      "[Stage 8:>                                                          (0 + 1) / 1]\r"
     ]
    },
    {
     "name": "stdout",
     "output_type": "stream",
     "text": [
      "+------+--------------------+----------------+\n",
      "|ssl_id|          ssl_issuer|ssl_organization|\n",
      "+------+--------------------+----------------+\n",
      "|    31|GeoTrust TLS RSA ...|    DigiCert Inc|\n",
      "|    37|Thawte EV RSA CA ...|    DigiCert Inc|\n",
      "|     3|                  E1|   Let's Encrypt|\n",
      "|     1|Cloudflare Inc EC...|Cloudflare, Inc.|\n",
      "|    35|GeoTrust Global T...|    DigiCert Inc|\n",
      "+------+--------------------+----------------+\n",
      "only showing top 5 rows\n",
      "\n"
     ]
    },
    {
     "name": "stderr",
     "output_type": "stream",
     "text": [
      "                                                                                \r"
     ]
    }
   ],
   "source": [
    "df_set = dict()\n",
    "\n",
    "for table_name, dyf in dyf_set.items():\n",
    "    df_set[table_name] = dyf.toDF()\n",
    "    print(f\"Table {table_name}\")\n",
    "    df_set[table_name].show(5)"
   ]
  },
  {
   "cell_type": "markdown",
   "metadata": {},
   "source": [
    "### Join dataframes"
   ]
  },
  {
   "cell_type": "code",
   "execution_count": 13,
   "metadata": {
    "tags": []
   },
   "outputs": [
    {
     "name": "stdout",
     "output_type": "stream",
     "text": [
      "+-------+--------------------+------------------------+---------------+-------------+--------+----------+-----------------+----------------+----------------------+------------+\n",
      "|shop_id|          domain_url|domain_registration_date|is_young_domain|contact_email|logo_url|legitimate|allow_credit_card|allow_money_back|allow_cash_on_delivery|allow_crypto|\n",
      "+-------+--------------------+------------------------+---------------+-------------+--------+----------+-----------------+----------------+----------------------+------------+\n",
      "|     19|https://www.kling...|     2023-03-24 10:15:00|           true|        false|    true|     false|            false|           false|                 false|       false|\n",
      "|     21|https://www.ladde...|     2023-05-05 07:42:00|           true|        false|    true|     false|             true|            true|                  true|       false|\n",
      "|     41|https://www.handl...|     2023-04-11 02:42:00|           true|        false|   false|     false|             true|           false|                  true|       false|\n",
      "|     45|https://homefocus.ie|     2005-09-25 00:00:00|          false|        false|    true|      true|             true|            true|                  true|       false|\n",
      "|     57|https://www.kuote...|     2023-06-06 00:00:00|           true|        false|   false|     false|             true|            true|                 false|       false|\n",
      "+-------+--------------------+------------------------+---------------+-------------+--------+----------+-----------------+----------------+----------------------+------------+\n",
      "only showing top 5 rows\n",
      "\n"
     ]
    }
   ],
   "source": [
    "data = df_set[\"shops\"].join(\n",
    "    df_set[\"payment_methods\"], \n",
    "    \"shop_id\", \"left\"\n",
    ").drop(\"payment_method_id\")\n",
    "data.show(5)"
   ]
  },
  {
   "cell_type": "markdown",
   "metadata": {
    "editable": true
   },
   "source": [
    "#### Write the data in the DynamicFrame to a location in Amazon S3"
   ]
  },
  {
   "cell_type": "code",
   "execution_count": 17,
   "metadata": {
    "editable": true
   },
   "outputs": [
    {
     "name": "stderr",
     "output_type": "stream",
     "text": [
      "25/03/20 17:40:18 WARN MetricsConfig: Cannot locate configuration: tried hadoop-metrics2-s3a-file-system.properties,hadoop-metrics2.properties\n",
      "                                                                                \r"
     ]
    },
    {
     "data": {
      "text/plain": [
       "<awsglue.dynamicframe.DynamicFrame at 0x7f367b405a20>"
      ]
     },
     "execution_count": 17,
     "metadata": {},
     "output_type": "execute_result"
    }
   ],
   "source": [
    "from awsglue.dynamicframe import DynamicFrame\n",
    "\n",
    "glueContext.write_dynamic_frame.from_options(\n",
    "    frame=DynamicFrame.fromDF(data.coalesce(1), glueContext, \"random\"),\n",
    "    connection_type=\"s3\",\n",
    "    connection_options={\"path\": \"s3://fraud-detection-data-ars/dataset\"},\n",
    "    format=\"csv\",\n",
    "    format_options={\n",
    "        \"quoteChar\": -1,\n",
    "    },\n",
    ")"
   ]
  }
 ],
 "metadata": {
  "kernelspec": {
   "display_name": "Python 3 (ipykernel)",
   "language": "python",
   "name": "python3"
  },
  "language_info": {
   "codemirror_mode": {
    "name": "ipython",
    "version": 3
   },
   "file_extension": ".py",
   "mimetype": "text/x-python",
   "name": "python",
   "nbconvert_exporter": "python",
   "pygments_lexer": "ipython3",
   "version": "3.10.2"
  }
 },
 "nbformat": 4,
 "nbformat_minor": 4
}
